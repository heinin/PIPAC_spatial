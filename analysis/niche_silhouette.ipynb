{
 "cells": [
  {
   "cell_type": "code",
   "execution_count": null,
   "id": "1b233832-6510-4cf5-bd96-9bb9138b5c3d",
   "metadata": {},
   "outputs": [],
   "source": [
    "# Install a pip package in the current Jupyter kernel\n",
    "#import sys\n",
    "#!{sys.executable} -m pip install scanpy\n",
    "#!conda install --yes --prefix {sys.prefix} pickle"
   ]
  },
  {
   "cell_type": "code",
   "execution_count": 6,
   "id": "4f2d4402-6fba-4e3b-8de6-e81bebf35040",
   "metadata": {},
   "outputs": [],
   "source": [
    "# Import packages\n",
    "import scanpy as sc\n",
    "import pandas as pd\n",
    "import squidpy as sq\n",
    "import numpy as np\n",
    "import pickle\n",
    "import anndata\n",
    "from scipy.spatial import *\n",
    "from sklearn.preprocessing import *\n",
    "\n",
    "from sklearn.metrics import *\n",
    "from scipy.spatial.distance import *"
   ]
  },
  {
   "cell_type": "code",
   "execution_count": null,
   "id": "38331eef-78b4-4bfd-8883-dce224510e8e",
   "metadata": {},
   "outputs": [],
   "source": []
  },
  {
   "cell_type": "code",
   "execution_count": 2,
   "id": "f8a6597e-6b00-42f5-89de-e7c0f9d486d1",
   "metadata": {},
   "outputs": [],
   "source": [
    "import importlib.util\n",
    "import sys\n",
    "spec = importlib.util.spec_from_file_location(\"SDMBench\", \"/home/hnatri/SDMBench/SDMBench/SDMBench.py\")\n",
    "foo = importlib.util.module_from_spec(spec)\n",
    "sys.modules[\"SDMBench\"] = foo\n",
    "spec.loader.exec_module(foo)\n",
    "#foo.MyClass()\n",
    "\n",
    "import SDMBench\n",
    "sdmbench = SDMBench.sdmbench()"
   ]
  },
  {
   "cell_type": "code",
   "execution_count": 8,
   "id": "0ed38b4c-b969-4e5b-b4a5-ae0d55002f5e",
   "metadata": {},
   "outputs": [],
   "source": [
    "anndata.allow_write_nullable_strings = True"
   ]
  },
  {
   "cell_type": "code",
   "execution_count": 9,
   "id": "05214873-cf18-406b-8d00-1a2661612c45",
   "metadata": {},
   "outputs": [],
   "source": [
    "#import SDMBench.SDMBench as sdmbench\n",
    "#sdmbench=sdmbench.sdmbench()"
   ]
  },
  {
   "cell_type": "code",
   "execution_count": 10,
   "id": "a1341065-44b4-483c-a8c2-5392a4416562",
   "metadata": {},
   "outputs": [],
   "source": [
    "#with open('/scratch/hnatri/PIPAC_NC50_NN20_PC20_Seurat_annotated_metadata_ncells3k_nneighbors20', 'rb') as f:\n",
    "#    adata = pickle.load(f)"
   ]
  },
  {
   "cell_type": "code",
   "execution_count": null,
   "id": "339d5c49-3c79-4c30-bbd7-cd1be76f8dd5",
   "metadata": {},
   "outputs": [],
   "source": []
  },
  {
   "cell_type": "code",
   "execution_count": 11,
   "id": "184712d7-e5cb-4e63-9727-8c19d979a0d7",
   "metadata": {},
   "outputs": [
    {
     "ename": "KeyError",
     "evalue": "(<class 'h5py._hl.group.Group'>, IOSpec(encoding_type='nullable-string-array', encoding_version='0.1.0'), frozenset())",
     "output_type": "error",
     "traceback": [
      "\u001b[0;31m---------------------------------------------------------------------------\u001b[0m",
      "\u001b[0;31mKeyError\u001b[0m                                  Traceback (most recent call last)",
      "Cell \u001b[0;32mIn[11], line 2\u001b[0m\n\u001b[1;32m      1\u001b[0m \u001b[38;5;66;03m# Import data\u001b[39;00m\n\u001b[0;32m----> 2\u001b[0m adata \u001b[38;5;241m=\u001b[39m \u001b[43msc\u001b[49m\u001b[38;5;241;43m.\u001b[39;49m\u001b[43mread_h5ad\u001b[49m\u001b[43m(\u001b[49m\u001b[38;5;124;43m'\u001b[39;49m\u001b[38;5;124;43m/scratch/hnatri/simplified_seurat.h5ad\u001b[39;49m\u001b[38;5;124;43m'\u001b[39;49m\u001b[43m)\u001b[49m\n\u001b[1;32m      3\u001b[0m \u001b[38;5;66;03m#adata_valid = adata[np.logical_not(adata.obs['Region'].isna())]#remove NAN\u001b[39;00m\n\u001b[1;32m      4\u001b[0m adata\n",
      "File \u001b[0;32m~/miniconda3/envs/SDMBench/lib/python3.8/site-packages/anndata/_io/h5ad.py:236\u001b[0m, in \u001b[0;36mread_h5ad\u001b[0;34m(filename, backed, as_sparse, as_sparse_fmt, chunk_size)\u001b[0m\n\u001b[1;32m    233\u001b[0m     \u001b[38;5;28;01massert\u001b[39;00m \u001b[38;5;28;01mFalse\u001b[39;00m, \u001b[38;5;124m\"\u001b[39m\u001b[38;5;124munexpected raw format\u001b[39m\u001b[38;5;124m\"\u001b[39m\n\u001b[1;32m    234\u001b[0m \u001b[38;5;28;01melif\u001b[39;00m k \u001b[38;5;129;01min\u001b[39;00m {\u001b[38;5;124m\"\u001b[39m\u001b[38;5;124mobs\u001b[39m\u001b[38;5;124m\"\u001b[39m, \u001b[38;5;124m\"\u001b[39m\u001b[38;5;124mvar\u001b[39m\u001b[38;5;124m\"\u001b[39m}:\n\u001b[1;32m    235\u001b[0m     \u001b[38;5;66;03m# Backwards compat\u001b[39;00m\n\u001b[0;32m--> 236\u001b[0m     d[k] \u001b[38;5;241m=\u001b[39m \u001b[43mread_dataframe\u001b[49m\u001b[43m(\u001b[49m\u001b[43mf\u001b[49m\u001b[43m[\u001b[49m\u001b[43mk\u001b[49m\u001b[43m]\u001b[49m\u001b[43m)\u001b[49m\n\u001b[1;32m    237\u001b[0m \u001b[38;5;28;01melse\u001b[39;00m:  \u001b[38;5;66;03m# Base case\u001b[39;00m\n\u001b[1;32m    238\u001b[0m     d[k] \u001b[38;5;241m=\u001b[39m read_elem(f[k])\n",
      "File \u001b[0;32m~/miniconda3/envs/SDMBench/lib/python3.8/site-packages/anndata/_io/h5ad.py:301\u001b[0m, in \u001b[0;36mread_dataframe\u001b[0;34m(group)\u001b[0m\n\u001b[1;32m    299\u001b[0m     \u001b[38;5;28;01mreturn\u001b[39;00m read_dataframe_legacy(group)\n\u001b[1;32m    300\u001b[0m \u001b[38;5;28;01melse\u001b[39;00m:\n\u001b[0;32m--> 301\u001b[0m     \u001b[38;5;28;01mreturn\u001b[39;00m \u001b[43mread_elem\u001b[49m\u001b[43m(\u001b[49m\u001b[43mgroup\u001b[49m\u001b[43m)\u001b[49m\n",
      "File \u001b[0;32m~/miniconda3/envs/SDMBench/lib/python3.8/site-packages/anndata/_io/specs/registry.py:183\u001b[0m, in \u001b[0;36mread_elem\u001b[0;34m(elem, modifiers)\u001b[0m\n\u001b[1;32m    178\u001b[0m \u001b[38;5;28;01mdef\u001b[39;00m \u001b[38;5;21mread_elem\u001b[39m(\n\u001b[1;32m    179\u001b[0m     elem: Union[H5Array, H5Group, ZarrGroup, ZarrArray],\n\u001b[1;32m    180\u001b[0m     modifiers: \u001b[38;5;28mfrozenset\u001b[39m(\u001b[38;5;28mstr\u001b[39m) \u001b[38;5;241m=\u001b[39m \u001b[38;5;28mfrozenset\u001b[39m(),\n\u001b[1;32m    181\u001b[0m ) \u001b[38;5;241m-\u001b[39m\u001b[38;5;241m>\u001b[39m Any:\n\u001b[1;32m    182\u001b[0m \u001b[38;5;250m    \u001b[39m\u001b[38;5;124;03m\"\"\"Read an element from an on disk store.\"\"\"\u001b[39;00m\n\u001b[0;32m--> 183\u001b[0m     \u001b[38;5;28;01mreturn\u001b[39;00m \u001b[43m_REGISTRY\u001b[49m\u001b[38;5;241;43m.\u001b[39;49m\u001b[43mget_reader\u001b[49m\u001b[43m(\u001b[49m\u001b[38;5;28;43mtype\u001b[39;49m\u001b[43m(\u001b[49m\u001b[43melem\u001b[49m\u001b[43m)\u001b[49m\u001b[43m,\u001b[49m\u001b[43m \u001b[49m\u001b[43mget_spec\u001b[49m\u001b[43m(\u001b[49m\u001b[43melem\u001b[49m\u001b[43m)\u001b[49m\u001b[43m,\u001b[49m\u001b[43m \u001b[49m\u001b[38;5;28;43mfrozenset\u001b[39;49m\u001b[43m(\u001b[49m\u001b[43mmodifiers\u001b[49m\u001b[43m)\u001b[49m\u001b[43m)\u001b[49m\u001b[43m(\u001b[49m\u001b[43melem\u001b[49m\u001b[43m)\u001b[49m\n",
      "File \u001b[0;32m~/miniconda3/envs/SDMBench/lib/python3.8/site-packages/anndata/_io/specs/methods.py:524\u001b[0m, in \u001b[0;36mread_dataframe\u001b[0;34m(elem)\u001b[0m\n\u001b[1;32m    520\u001b[0m columns \u001b[38;5;241m=\u001b[39m \u001b[38;5;28mlist\u001b[39m(_read_attr(elem\u001b[38;5;241m.\u001b[39mattrs, \u001b[38;5;124m\"\u001b[39m\u001b[38;5;124mcolumn-order\u001b[39m\u001b[38;5;124m\"\u001b[39m))\n\u001b[1;32m    521\u001b[0m idx_key \u001b[38;5;241m=\u001b[39m _read_attr(elem\u001b[38;5;241m.\u001b[39mattrs, \u001b[38;5;124m\"\u001b[39m\u001b[38;5;124m_index\u001b[39m\u001b[38;5;124m\"\u001b[39m)\n\u001b[1;32m    522\u001b[0m df \u001b[38;5;241m=\u001b[39m pd\u001b[38;5;241m.\u001b[39mDataFrame(\n\u001b[1;32m    523\u001b[0m     {k: read_elem(elem[k]) \u001b[38;5;28;01mfor\u001b[39;00m k \u001b[38;5;129;01min\u001b[39;00m columns},\n\u001b[0;32m--> 524\u001b[0m     index\u001b[38;5;241m=\u001b[39m\u001b[43mread_elem\u001b[49m\u001b[43m(\u001b[49m\u001b[43melem\u001b[49m\u001b[43m[\u001b[49m\u001b[43midx_key\u001b[49m\u001b[43m]\u001b[49m\u001b[43m)\u001b[49m,\n\u001b[1;32m    525\u001b[0m     columns\u001b[38;5;241m=\u001b[39m\u001b[38;5;28mlist\u001b[39m(columns),\n\u001b[1;32m    526\u001b[0m )\n\u001b[1;32m    527\u001b[0m \u001b[38;5;28;01mif\u001b[39;00m idx_key \u001b[38;5;241m!=\u001b[39m \u001b[38;5;124m\"\u001b[39m\u001b[38;5;124m_index\u001b[39m\u001b[38;5;124m\"\u001b[39m:\n\u001b[1;32m    528\u001b[0m     df\u001b[38;5;241m.\u001b[39mindex\u001b[38;5;241m.\u001b[39mname \u001b[38;5;241m=\u001b[39m idx_key\n",
      "File \u001b[0;32m~/miniconda3/envs/SDMBench/lib/python3.8/site-packages/anndata/_io/specs/registry.py:183\u001b[0m, in \u001b[0;36mread_elem\u001b[0;34m(elem, modifiers)\u001b[0m\n\u001b[1;32m    178\u001b[0m \u001b[38;5;28;01mdef\u001b[39;00m \u001b[38;5;21mread_elem\u001b[39m(\n\u001b[1;32m    179\u001b[0m     elem: Union[H5Array, H5Group, ZarrGroup, ZarrArray],\n\u001b[1;32m    180\u001b[0m     modifiers: \u001b[38;5;28mfrozenset\u001b[39m(\u001b[38;5;28mstr\u001b[39m) \u001b[38;5;241m=\u001b[39m \u001b[38;5;28mfrozenset\u001b[39m(),\n\u001b[1;32m    181\u001b[0m ) \u001b[38;5;241m-\u001b[39m\u001b[38;5;241m>\u001b[39m Any:\n\u001b[1;32m    182\u001b[0m \u001b[38;5;250m    \u001b[39m\u001b[38;5;124;03m\"\"\"Read an element from an on disk store.\"\"\"\u001b[39;00m\n\u001b[0;32m--> 183\u001b[0m     \u001b[38;5;28;01mreturn\u001b[39;00m \u001b[43m_REGISTRY\u001b[49m\u001b[38;5;241;43m.\u001b[39;49m\u001b[43mget_reader\u001b[49m\u001b[43m(\u001b[49m\u001b[38;5;28;43mtype\u001b[39;49m\u001b[43m(\u001b[49m\u001b[43melem\u001b[49m\u001b[43m)\u001b[49m\u001b[43m,\u001b[49m\u001b[43m \u001b[49m\u001b[43mget_spec\u001b[49m\u001b[43m(\u001b[49m\u001b[43melem\u001b[49m\u001b[43m)\u001b[49m\u001b[43m,\u001b[49m\u001b[43m \u001b[49m\u001b[38;5;28;43mfrozenset\u001b[39;49m\u001b[43m(\u001b[49m\u001b[43mmodifiers\u001b[49m\u001b[43m)\u001b[49m\u001b[43m)\u001b[49m(elem)\n",
      "File \u001b[0;32m~/miniconda3/envs/SDMBench/lib/python3.8/site-packages/anndata/_io/specs/registry.py:86\u001b[0m, in \u001b[0;36mIORegistry.get_reader\u001b[0;34m(self, src_type, spec, modifiers)\u001b[0m\n\u001b[1;32m     84\u001b[0m \u001b[38;5;28;01mdef\u001b[39;00m \u001b[38;5;21mget_reader\u001b[39m(\u001b[38;5;28mself\u001b[39m, src_type, spec, modifiers\u001b[38;5;241m=\u001b[39m\u001b[38;5;28mfrozenset\u001b[39m()):\n\u001b[1;32m     85\u001b[0m     modifiers \u001b[38;5;241m=\u001b[39m \u001b[38;5;28mfrozenset\u001b[39m(modifiers)\n\u001b[0;32m---> 86\u001b[0m     \u001b[38;5;28;01mreturn\u001b[39;00m \u001b[38;5;28;43mself\u001b[39;49m\u001b[38;5;241;43m.\u001b[39;49m\u001b[43mread\u001b[49m\u001b[43m[\u001b[49m\u001b[43m(\u001b[49m\u001b[43msrc_type\u001b[49m\u001b[43m,\u001b[49m\u001b[43m \u001b[49m\u001b[43mspec\u001b[49m\u001b[43m,\u001b[49m\u001b[43m \u001b[49m\u001b[43mmodifiers\u001b[49m\u001b[43m)\u001b[49m\u001b[43m]\u001b[49m\n",
      "\u001b[0;31mKeyError\u001b[0m: (<class 'h5py._hl.group.Group'>, IOSpec(encoding_type='nullable-string-array', encoding_version='0.1.0'), frozenset())"
     ]
    }
   ],
   "source": [
    "# Import data\n",
    "adata = sc.read_h5ad('/scratch/hnatri/simplified_seurat.h5ad')\n",
    "#adata_valid = adata[np.logical_not(adata.obs['Region'].isna())]#remove NAN\n",
    "adata"
   ]
  },
  {
   "cell_type": "code",
   "execution_count": null,
   "id": "3c1c4477-540f-496f-97ad-cb9bf3ab3f76",
   "metadata": {},
   "outputs": [],
   "source": [
    "# Compute ASW\n",
    "asw = sdmbench.compute_ASW(adata,\n",
    "                           f'ncells3k_niche_k5_n20',\n",
    "                           spatial_key = 'sp_adj')\n",
    "\n",
    "asw"
   ]
  },
  {
   "cell_type": "code",
   "execution_count": null,
   "id": "60212f70-e635-4d84-9c48-f4a9dcc54536",
   "metadata": {},
   "outputs": [],
   "source": []
  },
  {
   "cell_type": "code",
   "execution_count": null,
   "id": "1e27a984-5f68-4687-a8d9-71d4733355b9",
   "metadata": {},
   "outputs": [],
   "source": []
  }
 ],
 "metadata": {
  "kernelspec": {
   "display_name": "Python 3 (ipykernel)",
   "language": "python",
   "name": "python3"
  },
  "language_info": {
   "codemirror_mode": {
    "name": "ipython",
    "version": 3
   },
   "file_extension": ".py",
   "mimetype": "text/x-python",
   "name": "python",
   "nbconvert_exporter": "python",
   "pygments_lexer": "ipython3",
   "version": "3.8.19"
  }
 },
 "nbformat": 4,
 "nbformat_minor": 5
}
