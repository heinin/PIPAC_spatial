{
 "cells": [
  {
   "cell_type": "code",
   "execution_count": null,
   "id": "1b233832-6510-4cf5-bd96-9bb9138b5c3d",
   "metadata": {},
   "outputs": [],
   "source": [
    "# Install a pip package in the current Jupyter kernel\n",
    "#import sys\n",
    "#!{sys.executable} -m pip install scanpy\n",
    "#!conda install --yes --prefix {sys.prefix} pickle"
   ]
  },
  {
   "cell_type": "code",
   "execution_count": null,
   "id": "4f2d4402-6fba-4e3b-8de6-e81bebf35040",
   "metadata": {},
   "outputs": [],
   "source": [
    "# Import packages\n",
    "import scanpy as sc\n",
    "import pandas as pd\n",
    "import squidpy as sq\n",
    "import numpy as np\n",
    "import pickle\n",
    "from scipy.spatial import *\n",
    "from sklearn.preprocessing import *\n",
    "\n",
    "from sklearn.metrics import *\n",
    "from scipy.spatial.distance import *"
   ]
  },
  {
   "cell_type": "code",
   "execution_count": null,
   "id": "f8a6597e-6b00-42f5-89de-e7c0f9d486d1",
   "metadata": {},
   "outputs": [],
   "source": [
    "import importlib.util\n",
    "import sys\n",
    "spec = importlib.util.spec_from_file_location(\"SDMBench\", \"/home/hnatri/SDMBench/SDMBench/SDMBench.py\")\n",
    "foo = importlib.util.module_from_spec(spec)\n",
    "sys.modules[\"SDMBench\"] = foo\n",
    "spec.loader.exec_module(foo)\n",
    "#foo.MyClass()\n",
    "\n",
    "import SDMBench\n",
    "sdmbench = SDMBench.sdmbench()"
   ]
  },
  {
   "cell_type": "code",
   "execution_count": null,
   "id": "05214873-cf18-406b-8d00-1a2661612c45",
   "metadata": {},
   "outputs": [],
   "source": [
    "#import SDMBench.SDMBench as sdmbench\n",
    "#sdmbench=sdmbench.sdmbench()"
   ]
  },
  {
   "cell_type": "code",
   "execution_count": null,
   "id": "a1341065-44b4-483c-a8c2-5392a4416562",
   "metadata": {},
   "outputs": [],
   "source": [
    "# Read in anndata as a pickle file from previous script.\n",
    "with open('/scratch/hnatri/PIPAC_NC50_NN20_PC20_Seurat_annotated_metadata_ncells3k_nneighbors20', 'rb') as f:\n",
    "    adata = pickle.load(f)"
   ]
  },
  {
   "cell_type": "code",
   "execution_count": null,
   "id": "339d5c49-3c79-4c30-bbd7-cd1be76f8dd5",
   "metadata": {},
   "outputs": [],
   "source": [
    "adata"
   ]
  },
  {
   "cell_type": "code",
   "execution_count": null,
   "id": "184712d7-e5cb-4e63-9727-8c19d979a0d7",
   "metadata": {},
   "outputs": [],
   "source": [
    "# Import data\n",
    "#adata = sc.read_h5ad('/scratch/hnatri/PIPAC_NC50_NN20_PC20_Seurat_annotated_metadata_ncells3k_nneighbors20')\n",
    "#adata_valid = adata[np.logical_not(adata.obs['Region'].isna())]#remove NAN\n",
    "#adata"
   ]
  },
  {
   "cell_type": "code",
   "execution_count": null,
   "id": "3c1c4477-540f-496f-97ad-cb9bf3ab3f76",
   "metadata": {},
   "outputs": [],
   "source": [
    "# Compute ASW\n",
    "asw = sdmbench.compute_ASW(adata,\n",
    "                           f'ncells3k_niche_k5_n20',\n",
    "                           spatial_key = 'sp_adj')\n",
    "\n",
    "asw"
   ]
  },
  {
   "cell_type": "code",
   "execution_count": null,
   "id": "60212f70-e635-4d84-9c48-f4a9dcc54536",
   "metadata": {},
   "outputs": [],
   "source": []
  },
  {
   "cell_type": "code",
   "execution_count": null,
   "id": "1e27a984-5f68-4687-a8d9-71d4733355b9",
   "metadata": {},
   "outputs": [],
   "source": []
  }
 ],
 "metadata": {
  "kernelspec": {
   "display_name": "Python 3 (ipykernel)",
   "language": "python",
   "name": "python3"
  },
  "language_info": {
   "codemirror_mode": {
    "name": "ipython",
    "version": 3
   },
   "file_extension": ".py",
   "mimetype": "text/x-python",
   "name": "python",
   "nbconvert_exporter": "python",
   "pygments_lexer": "ipython3",
   "version": "3.8.19"
  }
 },
 "nbformat": 4,
 "nbformat_minor": 5
}
