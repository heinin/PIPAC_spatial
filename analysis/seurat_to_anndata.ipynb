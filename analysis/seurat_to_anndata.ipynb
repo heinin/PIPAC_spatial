{
 "cells": [
  {
   "cell_type": "code",
   "execution_count": 1,
   "id": "234623a3-8da9-40a5-be04-f9b98c3d2dd0",
   "metadata": {},
   "outputs": [
    {
     "name": "stderr",
     "output_type": "stream",
     "text": [
      "/tmp/ipykernel_2982348/19227154.py:9: DeprecationWarning: The global conversion available with activate() is deprecated and will be removed in the next major release. Use a local converter.\n",
      "  anndata2ri.activate()\n"
     ]
    }
   ],
   "source": [
    "import pickle\n",
    "import anndata2ri\n",
    "import scanpy\n",
    "import rpy2\n",
    "import rpy2.robjects as robjects\n",
    "from rpy2.robjects.packages import importr\n",
    "\n",
    "#This activates the object conversion.\n",
    "anndata2ri.activate()\n",
    "%load_ext rpy2.ipython"
   ]
  },
  {
   "cell_type": "code",
   "execution_count": 2,
   "id": "27d23a80-857f-423d-be7b-d4ad24dd64e9",
   "metadata": {},
   "outputs": [
    {
     "name": "stdout",
     "output_type": "stream",
     "text": [
      "\n",
      "    WARNING: The R package \"reticulate\" only fixed recently\n",
      "    an issue that caused a segfault when used with rpy2:\n",
      "    https://github.com/rstudio/reticulate/pull/1188\n",
      "    Make sure that you use a version of that package that includes\n",
      "    the fix.\n",
      "    "
     ]
    }
   ],
   "source": [
    "#Import needed R libraries.\n",
    "seurat = importr('Seurat')\n",
    "base = importr('base')"
   ]
  },
  {
   "cell_type": "code",
   "execution_count": 6,
   "id": "5330556f-aacd-439f-a2cd-ef07241d5fcd",
   "metadata": {},
   "outputs": [
    {
     "data": {
      "text/plain": [
       "<rpy2.robjects.methods.RS4 object at 0x15550c205e40> [RTYPES.S4SXP]\n",
       "R classes: ('Seurat',)"
      ]
     },
     "execution_count": 6,
     "metadata": {},
     "output_type": "execute_result"
    }
   ],
   "source": [
    "#Read Seurat object into R.\n",
    "robjects.r('seurat_object = readRDS(\"/scratch/hnatri/PIPAC_NC50_NN20_PC20_Seurat_annotated_metadata_ncells3k_nneighbors20.rds\")')"
   ]
  },
  {
   "cell_type": "code",
   "execution_count": 7,
   "id": "ec0f709f-9cc2-415a-b038-0db60ffb7f77",
   "metadata": {},
   "outputs": [],
   "source": [
    "#Merge layers because Seurat object versioning is wild. Convert Seurat object to Anndata.\n",
    "robjects.r('seurat_object = JoinLayers(seurat_object)')\n",
    "adata = robjects.r('as.SingleCellExperiment(seurat_object)')"
   ]
  },
  {
   "cell_type": "code",
   "execution_count": 8,
   "id": "7ceb9801-c0eb-43e4-a82e-feded29d9bcb",
   "metadata": {},
   "outputs": [],
   "source": [
    "#Check to make sure conversion worked and possibly cast counts to array if necessary.\n",
    "adata.X = adata.X.toarray()"
   ]
  },
  {
   "cell_type": "code",
   "execution_count": 9,
   "id": "afd9f6cc-bb4c-4255-8947-f1d42da50429",
   "metadata": {},
   "outputs": [
    {
     "data": {
      "text/plain": [
       "array([[0.        , 0.        , 1.09861231, ..., 0.        , 0.        ,\n",
       "        0.        ],\n",
       "       [0.        , 0.        , 0.        , ..., 0.        , 0.69314718,\n",
       "        0.        ],\n",
       "       [0.        , 0.        , 0.        , ..., 0.        , 0.        ,\n",
       "        0.        ],\n",
       "       ...,\n",
       "       [0.        , 0.        , 0.        , ..., 0.        , 0.        ,\n",
       "        0.        ],\n",
       "       [0.        , 0.        , 0.        , ..., 0.        , 0.        ,\n",
       "        0.        ],\n",
       "       [0.        , 0.        , 0.        , ..., 0.        , 0.        ,\n",
       "        0.        ]])"
      ]
     },
     "execution_count": 9,
     "metadata": {},
     "output_type": "execute_result"
    }
   ],
   "source": [
    "adata.X"
   ]
  },
  {
   "cell_type": "code",
   "execution_count": 10,
   "id": "0d298c8d-68b7-4568-a39a-ad9519784ad9",
   "metadata": {},
   "outputs": [],
   "source": [
    "del adata.layers"
   ]
  },
  {
   "cell_type": "code",
   "execution_count": 11,
   "id": "93aabff9-3b0f-4eab-ac49-72d4bdf1b33d",
   "metadata": {},
   "outputs": [],
   "source": [
    "#Write anndata to pickle file. Next move to the clustering script.\n",
    "with open(\"/scratch/hnatri/PIPAC_NC50_NN20_PC20_Seurat_annotated_metadata_ncells3k_nneighbors20\", \"wb\") as adata_object:\n",
    "    pickle.dump(adata, adata_object)"
   ]
  },
  {
   "cell_type": "code",
   "execution_count": 12,
   "id": "a2097363-fcbe-4831-896e-5142d8d064e8",
   "metadata": {},
   "outputs": [
    {
     "data": {
      "text/plain": [
       "AnnData object with n_obs × n_vars = 1098135 × 480\n",
       "    obs: 'orig.ident', 'nCount_RNA', 'nFeature_RNA', 'cell_id', 'x_centroid', 'y_centroid', 'transcript_counts', 'control_probe_counts', 'genomic_control_counts', 'control_codeword_counts', 'unassigned_codeword_counts', 'deprecated_codeword_counts', 'total_counts', 'cell_area', 'nucleus_area', 'nucleus_count', 'segmentation_method', 'num.blank', 'TMA', 'percent.blank', 'nCount_cell_RNA', 'nFeature_cell_RNA', 'Sample', 'ident', 'leiden_res0.5', 'leiden_res1.0', 'leiden_res1.5', 'leiden_res2.0', 'Institution', 'Patient_ID', 'Timepoint', 'Tissue', 'Location_Quadrant', 'Annotation', 'RPN', 'STUDY_SITE', 'GENDER', 'ETHNICITY', 'race', 'DISEASESITE', 'ECOG', 'ACTUALWEIGHT', 'txstartdate', 'DXHISTOLOGY', 'DXSITE', 'initialdxdate', 'LINETHERAPY', 'PRIORTHERAPYTYPE', 'priorcytoreduction', 'lastcontactdate', 'furthertxall', 'progressiondt', 'vitalstatus1', 'deathdate', 'OFFSTUDYREASON', 'offstudydate', 'OFFTXREASON', 'offtxdate', 'asascore1', 'asascore2', 'asascore3', 'lesionsize1', 'lesionsize2', 'lesionsize3', 'No_of_PIPACs', 'pipacdate1', 'pipacdate2', 'pipacdate3', 'ascites1', 'ascites2', 'ascites3', 'transfusion1', 'transfusion2', 'transfusion3', 'ebl1', 'ebl2', 'ebl3', 'pci1', 'pci2', 'pci3', 'numcycles_pipacsurg', 'cyclenum', 'age', 'lastfollowdate', 'oscensor', 'osmonths', 'pfscensor', 'pfsmonths', 'Arm', 'SUBJECT_STATUS', 'EXPIRED_DATE', 'race_oncore', 'DOSELEVEL_STD', 'HEIGHT', 'COMMENTS500', 'PRIORHIPECYN', 'furthertxdate', 'No_of_PIPACS', 'priortherapytype1', 'agedx', 'dxtosxmonths', 'sxtoendtxmonths', 'sxtooffstudy', 'cytoreduction', 'priorsxyn', 'Site_abbr', 'adj_x_centroid', 'adj_y_centroid', 'nCount_niche', 'nFeature_niche', 'niche_k5_n30', 'niche_k6_n30', 'niche_k7_n30', 'niche_k8_n30', 'niche_k3_n30', 'niche_k4_n30', 'BestResponse', 'ncells3k_niche_k3_n20', 'ncells3k_niche_k4_n20', 'ncells3k_niche_k5_n20', 'ncells3k_niche_k6_n20', 'ncells3k_niche_k7_n20', 'ncells3k_niche_k8_n20'\n",
       "    obsm: 'X_pca', 'SP', 'X_umap', 'SP_ADJ'"
      ]
     },
     "execution_count": 12,
     "metadata": {},
     "output_type": "execute_result"
    }
   ],
   "source": [
    "adata"
   ]
  },
  {
   "cell_type": "code",
   "execution_count": 1,
   "id": "e31e9cc3-7fa0-4ea7-8824-ebc7243fda3c",
   "metadata": {
    "scrolled": true
   },
   "outputs": [
    {
     "ename": "NameError",
     "evalue": "name 'adata' is not defined",
     "output_type": "error",
     "traceback": [
      "\u001b[0;31m---------------------------------------------------------------------------\u001b[0m",
      "\u001b[0;31mNameError\u001b[0m                                 Traceback (most recent call last)",
      "Cell \u001b[0;32mIn[1], line 2\u001b[0m\n\u001b[1;32m      1\u001b[0m \u001b[38;5;66;03m#Write anndata to h5 file to import into R for conversion to Seurat object. Next move to commandline R for sceasy.\u001b[39;00m\n\u001b[0;32m----> 2\u001b[0m \u001b[43madata\u001b[49m\u001b[38;5;241m.\u001b[39mwrite_h5ad(filename\u001b[38;5;241m=\u001b[39m\u001b[38;5;124m\"\u001b[39m\u001b[38;5;124m/scratch/hnatri/PIPAC/nonimmune_complete_subset_clustered_NC50_NN20_PC20_AnnData.h5ad\u001b[39m\u001b[38;5;124m\"\u001b[39m)\n",
      "\u001b[0;31mNameError\u001b[0m: name 'adata' is not defined"
     ]
    }
   ],
   "source": [
    "#Write anndata to h5 file to import into R for conversion to Seurat object. Next move to commandline R for sceasy.\n",
    "adata.write_h5ad(filename=\"/scratch/hnatri/PIPAC/nonimmune_complete_subset_clustered_NC50_NN20_PC20_AnnData.h5ad\")"
   ]
  },
  {
   "cell_type": "code",
   "execution_count": 14,
   "id": "354415e9-662c-477f-8178-288b811b0416",
   "metadata": {},
   "outputs": [
    {
     "data": {
      "text/plain": [
       "array(['EpiTumor1', 'Meso', 'M8', 'F1', 'F3', 'L2', 'Mast', 'L4',\n",
       "       'Stromal2', 'Endo1', 'L3', 'M1', 'M4', 'L1', 'M2', 'M6', 'Plasma1',\n",
       "       'Plasma3', 'F2', 'Endo3', 'Peri', 'F4', 'B1', 'L5', 'Plasma2',\n",
       "       'M7', 'Endo2', 'Stromal1', 'M5', 'B2', 'DC', 'M3', 'EpiTumor2'],\n",
       "      dtype=object)"
      ]
     },
     "execution_count": 14,
     "metadata": {},
     "output_type": "execute_result"
    }
   ],
   "source": [
    "adata.obs[\"Annotation\"].unique()"
   ]
  },
  {
   "cell_type": "code",
   "execution_count": null,
   "id": "11acd279-d970-4efc-9ca6-12b0f4bef499",
   "metadata": {},
   "outputs": [],
   "source": []
  },
  {
   "cell_type": "code",
   "execution_count": null,
   "id": "16d6b993-82bf-4c7d-9b5f-5ad628ed0595",
   "metadata": {},
   "outputs": [],
   "source": []
  }
 ],
 "metadata": {
  "kernelspec": {
   "display_name": "Python 3 (ipykernel)",
   "language": "python",
   "name": "python3"
  },
  "language_info": {
   "codemirror_mode": {
    "name": "ipython",
    "version": 3
   },
   "file_extension": ".py",
   "mimetype": "text/x-python",
   "name": "python",
   "nbconvert_exporter": "python",
   "pygments_lexer": "ipython3",
   "version": "3.8.19"
  }
 },
 "nbformat": 4,
 "nbformat_minor": 5
}
