{
 "cells": [
  {
   "cell_type": "code",
   "execution_count": 4,
   "id": "234623a3-8da9-40a5-be04-f9b98c3d2dd0",
   "metadata": {},
   "outputs": [
    {
     "name": "stderr",
     "output_type": "stream",
     "text": [
      "/tmp/ipykernel_2972434/1959833606.py:10: DeprecationWarning: The global conversion available with activate() is deprecated and will be removed in the next major release. Use a local converter.\n",
      "  anndata2ri.activate()\n"
     ]
    }
   ],
   "source": [
    "import pickle\n",
    "import anndata2ri\n",
    "import anndata\n",
    "import scanpy\n",
    "import rpy2\n",
    "import rpy2.robjects as robjects\n",
    "from rpy2.robjects.packages import importr\n",
    "\n",
    "#This activates the object conversion.\n",
    "anndata2ri.activate()\n",
    "%load_ext rpy2.ipython"
   ]
  },
  {
   "cell_type": "code",
   "execution_count": 5,
   "id": "16817856-8a5d-425c-9d95-687d751670df",
   "metadata": {},
   "outputs": [
    {
     "ename": "AttributeError",
     "evalue": "module 'anndata' has no attribute 'settings'",
     "output_type": "error",
     "traceback": [
      "\u001b[0;31m---------------------------------------------------------------------------\u001b[0m",
      "\u001b[0;31mAttributeError\u001b[0m                            Traceback (most recent call last)",
      "Cell \u001b[0;32mIn[5], line 1\u001b[0m\n\u001b[0;32m----> 1\u001b[0m \u001b[43manndata\u001b[49m\u001b[38;5;241;43m.\u001b[39;49m\u001b[43msettings\u001b[49m\u001b[38;5;241m.\u001b[39mallow_write_nullable_strings \u001b[38;5;241m=\u001b[39m \u001b[38;5;28;01mTrue\u001b[39;00m\n",
      "\u001b[0;31mAttributeError\u001b[0m: module 'anndata' has no attribute 'settings'"
     ]
    }
   ],
   "source": [
    "anndata.settings.allow_write_nullable_strings = True"
   ]
  },
  {
   "cell_type": "code",
   "execution_count": null,
   "id": "27d23a80-857f-423d-be7b-d4ad24dd64e9",
   "metadata": {},
   "outputs": [],
   "source": [
    "#Import needed R libraries.\n",
    "seurat = importr('Seurat')\n",
    "base = importr('base')"
   ]
  },
  {
   "cell_type": "code",
   "execution_count": null,
   "id": "5330556f-aacd-439f-a2cd-ef07241d5fcd",
   "metadata": {},
   "outputs": [],
   "source": [
    "#Read Seurat object into R.\n",
    "robjects.r('seurat_object = readRDS(\"/scratch/hnatri/PIPAC/merged_spatial_filtered.rds\")')"
   ]
  },
  {
   "cell_type": "code",
   "execution_count": null,
   "id": "ec0f709f-9cc2-415a-b038-0db60ffb7f77",
   "metadata": {},
   "outputs": [],
   "source": [
    "#Merge layers because Seurat object versioning is wild. Convert Seurat object to Anndata.\n",
    "#robjects.r('seurat_object = JoinLayers(seurat_object)')\n",
    "adata = robjects.r('as.SingleCellExperiment(seurat_object)')"
   ]
  },
  {
   "cell_type": "code",
   "execution_count": null,
   "id": "19f656c6-6972-416d-9e61-fcd74239b0fb",
   "metadata": {},
   "outputs": [],
   "source": [
    "adata.layers"
   ]
  },
  {
   "cell_type": "code",
   "execution_count": null,
   "id": "7ceb9801-c0eb-43e4-a82e-feded29d9bcb",
   "metadata": {},
   "outputs": [],
   "source": [
    "#Check to make sure conversion worked and possibly cast counts to array if necessary.\n",
    "adata.X = adata.X.toarray()"
   ]
  },
  {
   "cell_type": "code",
   "execution_count": null,
   "id": "afd9f6cc-bb4c-4255-8947-f1d42da50429",
   "metadata": {},
   "outputs": [],
   "source": [
    "adata.X"
   ]
  },
  {
   "cell_type": "code",
   "execution_count": null,
   "id": "0d298c8d-68b7-4568-a39a-ad9519784ad9",
   "metadata": {},
   "outputs": [],
   "source": [
    "del adata.layers"
   ]
  },
  {
   "cell_type": "code",
   "execution_count": null,
   "id": "93aabff9-3b0f-4eab-ac49-72d4bdf1b33d",
   "metadata": {},
   "outputs": [],
   "source": [
    "#Write anndata to pickle file. Next move to the clustering script.\n",
    "with open(\"/scratch/hnatri/PIPAC/merged_spatial_filtered\", \"wb\") as adata_object:\n",
    "    pickle.dump(adata, adata_object)"
   ]
  },
  {
   "cell_type": "code",
   "execution_count": 11,
   "id": "a2097363-fcbe-4831-896e-5142d8d064e8",
   "metadata": {},
   "outputs": [
    {
     "data": {
      "text/plain": [
       "AnnData object with n_obs × n_vars = 1063425 × 480\n",
       "    obs: 'orig.ident', 'nCount_RNA', 'nFeature_RNA', 'cell_id', 'x_centroid', 'y_centroid', 'transcript_counts', 'control_probe_counts', 'genomic_control_counts', 'control_codeword_counts', 'unassigned_codeword_counts', 'deprecated_codeword_counts', 'total_counts', 'cell_area', 'nucleus_area', 'nucleus_count', 'segmentation_method', 'num.blank', 'TMA', 'percent.blank', 'nCount_cell_RNA', 'nFeature_cell_RNA', 'ident'\n",
       "    obsm: 'SP'"
      ]
     },
     "execution_count": 11,
     "metadata": {},
     "output_type": "execute_result"
    }
   ],
   "source": [
    "adata"
   ]
  },
  {
   "cell_type": "code",
   "execution_count": 12,
   "id": "af90b76a-93e1-4bd1-8295-eb18282e3c69",
   "metadata": {},
   "outputs": [],
   "source": [
    "adata.obs[\"nFeature_RNA\"] = adata.obs[\"nFeature_RNA\"].astype('float64')\n",
    "adata.obs[\"transcript_counts\"] = adata.obs[\"transcript_counts\"].astype('float64')\n",
    "adata.obs[\"control_probe_counts\"] = adata.obs[\"control_probe_counts\"].astype('float64')\n",
    "adata.obs[\"genomic_control_counts\"] = adata.obs[\"genomic_control_counts\"].astype('float64')\n",
    "adata.obs[\"unassigned_codeword_counts\"] = adata.obs[\"unassigned_codeword_counts\"].astype('float64')\n",
    "adata.obs[\"deprecated_codeword_counts\"] = adata.obs[\"deprecated_codeword_counts\"].astype('float64')\n",
    "adata.obs[\"total_counts\"] = adata.obs[\"total_counts\"].astype('float64')\n",
    "adata.obs[\"nucleus_count\"] = adata.obs[\"nucleus_count\"].astype('float64')\n",
    "adata.obs[\"nFeature_cell_RNA\"] = adata.obs[\"nFeature_cell_RNA\"].astype('float64')"
   ]
  },
  {
   "cell_type": "code",
   "execution_count": 13,
   "id": "4e012aa4-173d-4128-9003-9d804a42d0c6",
   "metadata": {},
   "outputs": [
    {
     "data": {
      "text/plain": [
       "orig.ident                      object\n",
       "nCount_RNA                     float64\n",
       "nFeature_RNA                   float64\n",
       "cell_id                         object\n",
       "x_centroid                     float64\n",
       "y_centroid                     float64\n",
       "transcript_counts              float64\n",
       "control_probe_counts           float64\n",
       "genomic_control_counts         float64\n",
       "control_codeword_counts          Int32\n",
       "unassigned_codeword_counts     float64\n",
       "deprecated_codeword_counts     float64\n",
       "total_counts                   float64\n",
       "cell_area                      float64\n",
       "nucleus_area                   float64\n",
       "nucleus_count                  float64\n",
       "segmentation_method             object\n",
       "num.blank                      float64\n",
       "TMA                           category\n",
       "percent.blank                  float64\n",
       "nCount_cell_RNA                float64\n",
       "nFeature_cell_RNA              float64\n",
       "ident                         category\n",
       "dtype: object"
      ]
     },
     "execution_count": 13,
     "metadata": {},
     "output_type": "execute_result"
    }
   ],
   "source": [
    "adata.obs.dtypes"
   ]
  },
  {
   "cell_type": "code",
   "execution_count": 27,
   "id": "fd1cbd26-38c9-4356-9d80-9efc96b4f797",
   "metadata": {},
   "outputs": [],
   "source": [
    "adata.write_h5ad(filename=\"/scratch/hnatri/PIPAC/merged_spatial_filtered.h5ad\")"
   ]
  },
  {
   "cell_type": "code",
   "execution_count": 28,
   "id": "354415e9-662c-477f-8178-288b811b0416",
   "metadata": {},
   "outputs": [],
   "source": [
    "#adata.obs[\"ncells3k_niche_k8_n20\"].unique()"
   ]
  },
  {
   "cell_type": "code",
   "execution_count": null,
   "id": "11acd279-d970-4efc-9ca6-12b0f4bef499",
   "metadata": {},
   "outputs": [],
   "source": []
  },
  {
   "cell_type": "code",
   "execution_count": null,
   "id": "16d6b993-82bf-4c7d-9b5f-5ad628ed0595",
   "metadata": {},
   "outputs": [],
   "source": []
  }
 ],
 "metadata": {
  "kernelspec": {
   "display_name": "Python [conda env:rpy2] *",
   "language": "python",
   "name": "conda-env-rpy2-py"
  },
  "language_info": {
   "codemirror_mode": {
    "name": "ipython",
    "version": 3
   },
   "file_extension": ".py",
   "mimetype": "text/x-python",
   "name": "python",
   "nbconvert_exporter": "python",
   "pygments_lexer": "ipython3",
   "version": "3.10.13"
  }
 },
 "nbformat": 4,
 "nbformat_minor": 5
}
